{
 "cells": [
  {
   "cell_type": "markdown",
   "metadata": {},
   "source": [
    "# Coding Problems\n",
    "\n",
    "## Objective\n",
    "\n",
    "This assignment aims to demonstrate how to study a data structures or algorithms question in depth to prepare for an industry coding interview. Leetcode is a popular coding practice site that many use to practice for technical interviews. Like behavioral interviews, it's important to practice and keep your skills sharp.\n",
    "\n",
    "## Group Size\n",
    "\n",
    "Please complete this individually.\n",
    "\n",
    "## Part 1:\n",
    "\n",
    "_*You will be assigned one of three problems based of your first name. Execute the code below, and that will tell you your assigned problem. Include the output as part of your submission (do not clear the output). The problems are based-off problems from Leetcode.*_\n"
   ]
  },
  {
   "cell_type": "code",
   "execution_count": 2,
   "metadata": {},
   "outputs": [
    {
     "name": "stdout",
     "output_type": "stream",
     "text": [
      "1\n"
     ]
    }
   ],
   "source": [
    "print((hash('Serhiy') % 3) + 1)"
   ]
  },
  {
   "cell_type": "markdown",
   "metadata": {},
   "source": [
    "<details>\n",
    "  <summary>Question 1</summary>\n",
    "\n",
    "  # Question One: Check Duplicates in Tree\n",
    "\n",
    "  Given the `root` of a binary tree, check whether it is contains a duplicate value. If a duplicate exists, return the duplicate value. If there are multiple duplicates, return the one with the closest distance to the root. If no duplicate exists, return -1.\n",
    "\n",
    "  ## Examples\n",
    "\n",
    "  ### Example 1\n",
    "\n",
    "  ![](./images/q1_ex1.png)\n",
    "\n",
    "  Input: `root = [1, 2, 2, 3, 5, 6, 7]` *What traversal method is this?*\n",
    "\n",
    "  Output: 2\n",
    "\n",
    "  ### Example 2\n",
    "\n",
    "  ![](./images/q1_ex2.png)\n",
    "\n",
    "  Input: `root = [1, 10, 2, 3, 10, 12, 12]`\n",
    "\n",
    "  Output: 10\n",
    "\n",
    "  ### Example 3\n",
    "\n",
    "  ![](./images/q1_ex3.png)\n",
    "\n",
    "  Input: `root = [10, 9, 8, 7]`\n",
    "\n",
    "  Output: -1\n",
    "\n",
    "</details>\n",
    "\n",
    "#### Starter Code for Question 1"
   ]
  },
  {
   "cell_type": "code",
   "execution_count": 7,
   "metadata": {},
   "outputs": [
    {
     "name": "stdout",
     "output_type": "stream",
     "text": [
      "2\n",
      "10\n",
      "-1\n"
     ]
    }
   ],
   "source": [
    "from collections import deque\n",
    "# Definition for a binary tree node.\n",
    "class TreeNode(object):\n",
    "     def __init__(self, val = 0, left = None, right = None):\n",
    "         self.val = val\n",
    "         self.left = left\n",
    "         self.right = right\n",
    "\n",
    "def is_symmetric(root: TreeNode) -> int:\n",
    "    if not root:\n",
    "        return -1\n",
    "    \n",
    "    seen = set()\n",
    "    queue = deque([root])\n",
    "    \n",
    "    while queue:\n",
    "        node = queue.popleft()\n",
    "        \n",
    "        if node.val in seen:\n",
    "            return node.val\n",
    "        \n",
    "        seen.add(node.val)\n",
    "        \n",
    "        if node.left:\n",
    "            queue.append(node.left)\n",
    "        if node.right:\n",
    "            queue.append(node.right)\n",
    "    \n",
    "    return -1\n",
    "\n",
    "# Example usage:\n",
    "# Constructing the trees from the examples\n",
    "root1 = TreeNode(1, TreeNode(2, TreeNode(3), TreeNode(5)), TreeNode(2, TreeNode(6), TreeNode(7)))\n",
    "root2 = TreeNode(1, TreeNode(10, TreeNode(3), TreeNode(10)), TreeNode(2, TreeNode(12), TreeNode(12)))\n",
    "root3 = TreeNode(10, TreeNode(9, TreeNode(8)), TreeNode(7))\n",
    "\n",
    "print(find_duplicate(root1))  # Output: 2\n",
    "print(find_duplicate(root2))  # Output: 10\n",
    "print(find_duplicate(root3))  # Output: -1"
   ]
  },
  {
   "cell_type": "markdown",
   "metadata": {},
   "source": [
    "<details>\n",
    "  <summary>Question 2</summary>\n",
    "\n",
    "  # Question Two: Path to Leaves\n",
    "\n",
    "  Given the `root` of a binary tree, return all root to leaf paths in any order.\n",
    "\n",
    "  ## Examples\n",
    "\n",
    "  ### Example 1\n",
    "\n",
    "  ![](./images/q1_ex1.png)\n",
    "\n",
    "  Input: `root = [1, 2, 2, 3, 5, 6, 7]` *What traversal method is this?*\n",
    "\n",
    "  Output: [[1, 2, 3], [1, 2, 5], [1, 2, 6], [1, 2, 7]]\n",
    "\n",
    "  ### Example 2\n",
    "\n",
    "  ![](./images/q1_ex3.png)\n",
    "\n",
    "  Input: `root = [10, 9, 8, 7]`\n",
    "\n",
    "  Output: [[10, 7], [10, 9, 8]]\n",
    "\n",
    "</details>\n",
    "\n",
    "#### Starter Code for Question 2"
   ]
  },
  {
   "cell_type": "code",
   "execution_count": null,
   "metadata": {},
   "outputs": [],
   "source": [
    "# Definition for a binary tree node.\n",
    "# class TreeNode(object):\n",
    "#     def __init__(self, val = 0, left = None, right = None):\n",
    "#         self.val = val\n",
    "#         self.left = left\n",
    "#         self.right = right\n",
    "def bt_path(root: TreeNode) -> List[List[int]]:\n",
    "  # TODO"
   ]
  },
  {
   "cell_type": "markdown",
   "metadata": {},
   "source": [
    "<details>\n",
    "  <summary>Question 3</summary>\n",
    "\n",
    "  # Question Three: Missing Number in Range\n",
    " \n",
    "  You are given a list containing `n` integers in the range `[0, n]`. Return a list of numbers that are missing from the range `[0, n]` of the array. If there is no missing number, return -1. Note, all the integers in the list may not be unique.\n",
    "  \n",
    "  ## Examples\n",
    "\n",
    "  ### Example 1\n",
    "\n",
    "  Input: `lst = [0, 2]`\n",
    "\n",
    "  Output: [1]\n",
    "\n",
    "  ### Example 2\n",
    "\n",
    "  Input: `lst = [5, 0, 1]`\n",
    "\n",
    "  Output: [2, 3, 4]\n",
    "\n",
    "  ### Example 3\n",
    "\n",
    "  Input: `lst = [6, 8, 2, 3, 5, 7, 0, 1, 10]`\n",
    "\n",
    "  Output: [4, 9]\n",
    "\n",
    "</details>\n",
    "\n",
    "#### Starter Code for Question 3\n"
   ]
  },
  {
   "cell_type": "code",
   "execution_count": null,
   "metadata": {},
   "outputs": [],
   "source": [
    "def missing_num(nums: List) -> int:\n",
    "  # TODO"
   ]
  },
  {
   "cell_type": "markdown",
   "metadata": {},
   "source": [
    "\n",
    "## Part 2:\n",
    "\n",
    "-   Paraphrase the problem in your own words\n"
   ]
  },
  {
   "cell_type": "code",
   "execution_count": null,
   "metadata": {},
   "outputs": [],
   "source": [
    "# Your answer here\n",
    "Given the root of a binary tree, the task is to determine if the tree contains any duplicate values. \n",
    "If duplicates are found, return the value of the duplicate that is closest to the root. \n",
    "If there are multiple duplicates, return the one that appears first in a level-order traversal (also known as breadth-first search) of the tree. \n",
    "If no duplicates are present, return -1."
   ]
  },
  {
   "cell_type": "markdown",
   "metadata": {},
   "source": [
    "\n",
    "-   In the .md file containing your problem, there are examples that illustrate how the code should work. Create 2 new examples that demonstrate you understand the problem.\n"
   ]
  },
  {
   "cell_type": "code",
   "execution_count": null,
   "metadata": {},
   "outputs": [],
   "source": [
    "# Your answer here\n",
    "Given binary tree:\n",
    "\n",
    "       4\n",
    "     /   \\\n",
    "    2     5\n",
    "   / \\     \\\n",
    "  1   3     2\n",
    "\n",
    "Input: `root = [4, 2, 5, 1, 3, None, 2]`\n",
    "\n",
    "Output: 2\n",
    "\n",
    "Explanation: The number 2 is duplicated in the tree, and it appears first in the level-order traversal.\n",
    "\n",
    "Given binary tree:\n",
    "\n",
    "        7\n",
    "       / \\\n",
    "      4   6\n",
    "     / \\\n",
    "    4   2\n",
    "       / \\\n",
    "      1   2\n",
    "\n",
    "Input: `root = [7, 4, 6, 4, 2, None, None, None, None, 1, 2]`\n",
    "\n",
    "Output: 4\n",
    "\n",
    "Explanation: The number 4 is duplicated in the tree and is the first duplicate encountered in the level-order traversal."
   ]
  },
  {
   "cell_type": "markdown",
   "metadata": {},
   "source": [
    "\n",
    "-   Code the solution to your assigned problem in Python (code chunk). Try to find the best time and space complexity solution!\n"
   ]
  },
  {
   "cell_type": "code",
   "execution_count": 8,
   "metadata": {},
   "outputs": [
    {
     "name": "stdout",
     "output_type": "stream",
     "text": [
      "2\n",
      "10\n",
      "-1\n",
      "2\n",
      "4\n"
     ]
    }
   ],
   "source": [
    "# Your answer here\n",
    "from collections import deque\n",
    "\n",
    "# Definition for a binary tree node.\n",
    "class TreeNode:\n",
    "    def __init__(self, val=0, left=None, right=None):\n",
    "        self.val = val\n",
    "        self.left = left\n",
    "        self.right = right\n",
    "\n",
    "def find_duplicate(root: TreeNode) -> int:\n",
    "    if not root:\n",
    "        return -1\n",
    "    \n",
    "    seen = set()  # Set to keep track of seen values\n",
    "    queue = deque([root])  # Queue for BFS\n",
    "    \n",
    "    while queue:\n",
    "        node = queue.popleft()  # Get the next node from the queue\n",
    "        \n",
    "        if node.val in seen:  # If the value is already seen, it's a duplicate\n",
    "            return node.val\n",
    "        \n",
    "        seen.add(node.val)  # Add the value to the set\n",
    "        \n",
    "        if node.left:\n",
    "            queue.append(node.left)  # Add left child to the queue if it exists\n",
    "        if node.right:\n",
    "            queue.append(node.right)  # Add right child to the queue if it exists\n",
    "    \n",
    "    return -1  # If no duplicates are found, return -1\n",
    "\n",
    "# Example usage:\n",
    "# Constructing the trees from the examples\n",
    "root1 = TreeNode(1, TreeNode(2, TreeNode(3), TreeNode(5)), TreeNode(2, TreeNode(6), TreeNode(7)))\n",
    "root2 = TreeNode(1, TreeNode(10, TreeNode(3), TreeNode(10)), TreeNode(2, TreeNode(12), TreeNode(12)))\n",
    "root3 = TreeNode(10, TreeNode(9, TreeNode(8)), TreeNode(7))\n",
    "\n",
    "print(find_duplicate(root1))  # Output: 2\n",
    "print(find_duplicate(root2))  # Output: 10\n",
    "print(find_duplicate(root3))  # Output: -1\n",
    "\n",
    "# New example usage:\n",
    "root4 = TreeNode(4, TreeNode(2, TreeNode(1), TreeNode(3)), TreeNode(5, None, TreeNode(2)))\n",
    "root5 = TreeNode(7, TreeNode(4, TreeNode(4), TreeNode(2, TreeNode(1), TreeNode(2))), TreeNode(6))\n",
    "\n",
    "print(find_duplicate(root4))  # Output: 2\n",
    "print(find_duplicate(root5))  # Output: 4"
   ]
  },
  {
   "cell_type": "markdown",
   "metadata": {},
   "source": [
    "\n",
    "-   Explain why your solution works\n"
   ]
  },
  {
   "cell_type": "code",
   "execution_count": null,
   "metadata": {},
   "outputs": [],
   "source": [
    "# Your answer here\n",
    "Approach:\n",
    "The solution uses a breadth-first search (BFS) approach to traverse the binary tree. BFS is well-suited for this problem because it explores nodes level by level, ensuring that the closest duplicate to the root is found first.\n",
    "\n",
    "Steps:\n",
    "Initialization:\n",
    "\n",
    "Set for Seen Values: The seen set keeps track of values encountered during the traversal. Using a set allows for O(1) average time complexity for membership checks and insertions.\n",
    "Queue for BFS: The queue (initialized as a deque) manages the nodes to be explored. Starting with the root node ensures that we begin the traversal from the top of the tree.\n",
    "Breadth-First Search (BFS):\n",
    "\n",
    "Processing Nodes: We dequeue a node, check its value against the seen set, and then add its children to the queue. This continues until the queue is empty or a duplicate is found.\n",
    "Checking for Duplicates: As each node's value is processed, we check if it has already been encountered (i.e., if it is in the seen set). If it has, this value is the first duplicate encountered, and we return it immediately.\n",
    "Adding to Set and Queue: If the value is not a duplicate, it is added to the seen set, and the node's children are added to the queue for further exploration.\n",
    "Return Value:\n",
    "\n",
    "No Duplicates Found: If the traversal completes without finding any duplicates, the function returns -1.\n",
    "Why It Works:\n",
    "Level-Order Traversal: BFS ensures that we explore nodes level by level, meaning we will encounter the closest duplicate to the root first. This is critical because it guarantees that we return the correct duplicate as specified by the problem.\n",
    "Efficient Lookup and Insertion: Using a set for tracking seen values provides constant time complexity for membership checks and insertions, making the solution efficient.\n",
    "Early Exit on Duplicate: The algorithm terminates as soon as it finds the first duplicate, ensuring we do not perform unnecessary computations."
   ]
  },
  {
   "cell_type": "markdown",
   "metadata": {},
   "source": [
    "\n",
    "-   Explain the problem’s and space complexity\n"
   ]
  },
  {
   "cell_type": "code",
   "execution_count": null,
   "metadata": {},
   "outputs": [],
   "source": [
    "# Your answer here\n",
    "Time and Space Complexity:\n",
    "Time Complexity: O(n), where n is the number of nodes in the tree. Each node is processed once, and set operations (insertion and membership check) are O(1) on average.\n",
    "Space Complexity: O(n), where n is the number of nodes in the tree. The space is used for the queue (holding up to O(n) nodes in the worst case) and the set (holding up to O(n) unique values)."
   ]
  },
  {
   "cell_type": "markdown",
   "metadata": {},
   "source": [
    "\n",
    "-   Explain the thinking to an alternative solution (no coding required, but a classmate reading this should be able to code it up based off your text)\n"
   ]
  },
  {
   "cell_type": "code",
   "execution_count": null,
   "metadata": {},
   "outputs": [],
   "source": [
    "# Your answer here\n",
    "In this alternative solution, we will use a Depth-First Search (DFS) approach with pre-order traversal to find the first duplicate value in a binary tree. Pre-order traversal explores each node's value before its children, which helps in ensuring that the first duplicate we find is as close to the root as possible.\n",
    "\n",
    "Steps:\n",
    "Initialization:\n",
    "\n",
    "Create a set called seen to keep track of values encountered during the traversal.\n",
    "Implement a recursive helper function for the DFS traversal.\n",
    "Recursive DFS Traversal:\n",
    "\n",
    "Start the traversal from the root node.\n",
    "For each node:\n",
    "Check if its value is already in the seen set.\n",
    "If it is, store this value as the first found duplicate.\n",
    "If it is not, add the value to the seen set.\n",
    "Recursively call the helper function for the left child, then for the right child.\n",
    "Return Value:\n",
    "\n",
    "If a duplicate is found during the traversal, return it.\n",
    "If no duplicates are found after the traversal is complete, return -1.\n",
    "Detailed Steps for Implementation:\n",
    "Helper Function:\n",
    "\n",
    "Define a recursive function dfs(node, seen) that takes the current node and the seen set as arguments.\n",
    "Base Case: If the current node is None, return None.\n",
    "Check and Process the Current Node:\n",
    "If the current node's value is in seen, return this value as the duplicate.\n",
    "If the value is not in seen, add it to seen.\n",
    "Recursive Calls:\n",
    "Recursively call dfs on the left child of the current node. If it returns a duplicate, propagate this value up the recursion stack.\n",
    "Recursively call dfs on the right child of the current node. Similarly, if it returns a duplicate, propagate it up the stack.\n",
    "If neither child call returns a value, return None.\n",
    "Main Function:\n",
    "\n",
    "Initialize an empty set seen.\n",
    "Call the helper function dfs(root, seen).\n",
    "If the helper function returns a duplicate, return this value.\n",
    "If the helper function completes without finding a duplicate, return -1."
   ]
  },
  {
   "cell_type": "markdown",
   "metadata": {},
   "source": [
    "## Evaluation Criteria\n",
    "\n",
    "-   Problem is accurately stated\n",
    "\n",
    "-   Two examples are correct and easily understandable\n",
    "\n",
    "-   Correctness, time, and space complexity of the coding solution\n",
    "\n",
    "-   Clarity in explaining why the solution works, its time and space complexity\n",
    "\n",
    "-   Clarity in the proposal to the alternative solution"
   ]
  },
  {
   "cell_type": "markdown",
   "metadata": {},
   "source": [
    "## Submission Information\n",
    "\n",
    "🚨 **Please review our [Assignment Submission Guide](https://github.com/UofT-DSI/onboarding/blob/main/onboarding_documents/submissions.md)** 🚨 for detailed instructions on how to format, branch, and submit your work. Following these guidelines is crucial for your submissions to be evaluated correctly.\n",
    "\n",
    "### Submission Parameters:\n",
    "* Submission Due Date: `HH:MM AM/PM - DD/MM/YYYY`\n",
    "* The branch name for your repo should be: `assignment-1`\n",
    "* What to submit for this assignment:\n",
    "    * This Jupyter Notebook (assignment_1.ipynb) should be populated and should be the only change in your pull request.\n",
    "* What the pull request link should look like for this assignment: `https://github.com/<your_github_username>/algorithms_and_data_structures/pull/<pr_id>`\n",
    "    * Open a private window in your browser. Copy and paste the link to your pull request into the address bar. Make sure you can see your pull request properly. This helps the technical facilitator and learning support staff review your submission easily.\n",
    "\n",
    "Checklist:\n",
    "- [ ] Create a branch called `assignment-1`.\n",
    "- [ ] Ensure that the repository is public.\n",
    "- [ ] Review [the PR description guidelines](https://github.com/UofT-DSI/onboarding/blob/main/onboarding_documents/submissions.md#guidelines-for-pull-request-descriptions) and adhere to them.\n",
    "- [ ] Verify that the link is accessible in a private browser window.\n",
    "\n",
    "If you encounter any difficulties or have questions, please don't hesitate to reach out to our team via our Slack at `#cohort-3-help`. Our Technical Facilitators and Learning Support staff are here to help you navigate any challenges."
   ]
  }
 ],
 "metadata": {
  "kernelspec": {
   "display_name": "Python 3",
   "language": "python",
   "name": "python3"
  },
  "language_info": {
   "codemirror_mode": {
    "name": "ipython",
    "version": 3
   },
   "file_extension": ".py",
   "mimetype": "text/x-python",
   "name": "python",
   "nbconvert_exporter": "python",
   "pygments_lexer": "ipython3",
   "version": "3.12.4"
  }
 },
 "nbformat": 4,
 "nbformat_minor": 2
}
